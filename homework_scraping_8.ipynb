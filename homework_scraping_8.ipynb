{
 "cells": [
  {
   "cell_type": "code",
   "execution_count": 1,
   "metadata": {},
   "outputs": [],
   "source": [
    "import pandas as pd\n",
    "import numpy as np\n",
    "from matplotlib import pyplot as plt"
   ]
  },
  {
   "cell_type": "code",
   "execution_count": 2,
   "metadata": {},
   "outputs": [],
   "source": [
    "%matplotlib inline"
   ]
  },
  {
   "cell_type": "code",
   "execution_count": 3,
   "metadata": {},
   "outputs": [],
   "source": [
    "data = pd.read_csv('median-wages.csv',  encoding='cp1251')"
   ]
  },
  {
   "cell_type": "code",
   "execution_count": 4,
   "metadata": {},
   "outputs": [
    {
     "data": {
      "text/plain": [
       "Index(['Дата;Отрасль;Значение'], dtype='object')"
      ]
     },
     "execution_count": 4,
     "metadata": {},
     "output_type": "execute_result"
    }
   ],
   "source": [
    "data.columns"
   ]
  },
  {
   "cell_type": "code",
   "execution_count": 5,
   "metadata": {},
   "outputs": [
    {
     "data": {
      "text/plain": [
       "0                     [31.01.2017, Все отрасли, 24012.00]\n",
       "1                     [28.02.2017, Все отрасли, 23142.00]\n",
       "2                     [31.03.2017, Все отрасли, 24308.00]\n",
       "3                     [30.04.2017, Все отрасли, 24035.00]\n",
       "4                     [31.05.2017, Все отрасли, 25803.00]\n",
       "                              ...                        \n",
       "1021                [30.06.2021, Строительство, 41406.00]\n",
       "1022                     [30.06.2021, Торговля, 32013.00]\n",
       "1023    [30.06.2021, Транспортировка и хранение, 40632...\n",
       "1024                   [30.06.2021, Услуги ЖКХ, 38984.00]\n",
       "1025        [30.06.2021, Финансы и страхование, 47344.00]\n",
       "Name: Дата;Отрасль;Значение, Length: 1026, dtype: object"
      ]
     },
     "execution_count": 5,
     "metadata": {},
     "output_type": "execute_result"
    }
   ],
   "source": [
    "data['Дата;Отрасль;Значение'].str.split(';')"
   ]
  },
  {
   "cell_type": "code",
   "execution_count": 6,
   "metadata": {},
   "outputs": [
    {
     "data": {
      "text/html": [
       "<div>\n",
       "<style scoped>\n",
       "    .dataframe tbody tr th:only-of-type {\n",
       "        vertical-align: middle;\n",
       "    }\n",
       "\n",
       "    .dataframe tbody tr th {\n",
       "        vertical-align: top;\n",
       "    }\n",
       "\n",
       "    .dataframe thead th {\n",
       "        text-align: right;\n",
       "    }\n",
       "</style>\n",
       "<table border=\"1\" class=\"dataframe\">\n",
       "  <thead>\n",
       "    <tr style=\"text-align: right;\">\n",
       "      <th></th>\n",
       "      <th>0</th>\n",
       "      <th>1</th>\n",
       "      <th>2</th>\n",
       "    </tr>\n",
       "  </thead>\n",
       "  <tbody>\n",
       "    <tr>\n",
       "      <th>0</th>\n",
       "      <td>31.01.2017</td>\n",
       "      <td>Все отрасли</td>\n",
       "      <td>24012.00</td>\n",
       "    </tr>\n",
       "    <tr>\n",
       "      <th>1</th>\n",
       "      <td>28.02.2017</td>\n",
       "      <td>Все отрасли</td>\n",
       "      <td>23142.00</td>\n",
       "    </tr>\n",
       "    <tr>\n",
       "      <th>2</th>\n",
       "      <td>31.03.2017</td>\n",
       "      <td>Все отрасли</td>\n",
       "      <td>24308.00</td>\n",
       "    </tr>\n",
       "    <tr>\n",
       "      <th>3</th>\n",
       "      <td>30.04.2017</td>\n",
       "      <td>Все отрасли</td>\n",
       "      <td>24035.00</td>\n",
       "    </tr>\n",
       "    <tr>\n",
       "      <th>4</th>\n",
       "      <td>31.05.2017</td>\n",
       "      <td>Все отрасли</td>\n",
       "      <td>25803.00</td>\n",
       "    </tr>\n",
       "    <tr>\n",
       "      <th>...</th>\n",
       "      <td>...</td>\n",
       "      <td>...</td>\n",
       "      <td>...</td>\n",
       "    </tr>\n",
       "    <tr>\n",
       "      <th>1021</th>\n",
       "      <td>30.06.2021</td>\n",
       "      <td>Строительство</td>\n",
       "      <td>41406.00</td>\n",
       "    </tr>\n",
       "    <tr>\n",
       "      <th>1022</th>\n",
       "      <td>30.06.2021</td>\n",
       "      <td>Торговля</td>\n",
       "      <td>32013.00</td>\n",
       "    </tr>\n",
       "    <tr>\n",
       "      <th>1023</th>\n",
       "      <td>30.06.2021</td>\n",
       "      <td>Транспортировка и хранение</td>\n",
       "      <td>40632.00</td>\n",
       "    </tr>\n",
       "    <tr>\n",
       "      <th>1024</th>\n",
       "      <td>30.06.2021</td>\n",
       "      <td>Услуги ЖКХ</td>\n",
       "      <td>38984.00</td>\n",
       "    </tr>\n",
       "    <tr>\n",
       "      <th>1025</th>\n",
       "      <td>30.06.2021</td>\n",
       "      <td>Финансы и страхование</td>\n",
       "      <td>47344.00</td>\n",
       "    </tr>\n",
       "  </tbody>\n",
       "</table>\n",
       "<p>1026 rows × 3 columns</p>\n",
       "</div>"
      ],
      "text/plain": [
       "               0                           1         2\n",
       "0     31.01.2017                 Все отрасли  24012.00\n",
       "1     28.02.2017                 Все отрасли  23142.00\n",
       "2     31.03.2017                 Все отрасли  24308.00\n",
       "3     30.04.2017                 Все отрасли  24035.00\n",
       "4     31.05.2017                 Все отрасли  25803.00\n",
       "...          ...                         ...       ...\n",
       "1021  30.06.2021               Строительство  41406.00\n",
       "1022  30.06.2021                    Торговля  32013.00\n",
       "1023  30.06.2021  Транспортировка и хранение  40632.00\n",
       "1024  30.06.2021                  Услуги ЖКХ  38984.00\n",
       "1025  30.06.2021       Финансы и страхование  47344.00\n",
       "\n",
       "[1026 rows x 3 columns]"
      ]
     },
     "execution_count": 6,
     "metadata": {},
     "output_type": "execute_result"
    }
   ],
   "source": [
    "new_data = data['Дата;Отрасль;Значение'].str.split(';',expand=True)\n",
    "new_data"
   ]
  },
  {
   "cell_type": "code",
   "execution_count": 7,
   "metadata": {},
   "outputs": [
    {
     "data": {
      "text/html": [
       "<div>\n",
       "<style scoped>\n",
       "    .dataframe tbody tr th:only-of-type {\n",
       "        vertical-align: middle;\n",
       "    }\n",
       "\n",
       "    .dataframe tbody tr th {\n",
       "        vertical-align: top;\n",
       "    }\n",
       "\n",
       "    .dataframe thead th {\n",
       "        text-align: right;\n",
       "    }\n",
       "</style>\n",
       "<table border=\"1\" class=\"dataframe\">\n",
       "  <thead>\n",
       "    <tr style=\"text-align: right;\">\n",
       "      <th></th>\n",
       "      <th>Дата</th>\n",
       "      <th>Отрасль</th>\n",
       "      <th>Значение</th>\n",
       "    </tr>\n",
       "  </thead>\n",
       "  <tbody>\n",
       "    <tr>\n",
       "      <th>0</th>\n",
       "      <td>31.01.2017</td>\n",
       "      <td>Все отрасли</td>\n",
       "      <td>24012.00</td>\n",
       "    </tr>\n",
       "    <tr>\n",
       "      <th>1</th>\n",
       "      <td>28.02.2017</td>\n",
       "      <td>Все отрасли</td>\n",
       "      <td>23142.00</td>\n",
       "    </tr>\n",
       "    <tr>\n",
       "      <th>2</th>\n",
       "      <td>31.03.2017</td>\n",
       "      <td>Все отрасли</td>\n",
       "      <td>24308.00</td>\n",
       "    </tr>\n",
       "    <tr>\n",
       "      <th>3</th>\n",
       "      <td>30.04.2017</td>\n",
       "      <td>Все отрасли</td>\n",
       "      <td>24035.00</td>\n",
       "    </tr>\n",
       "    <tr>\n",
       "      <th>4</th>\n",
       "      <td>31.05.2017</td>\n",
       "      <td>Все отрасли</td>\n",
       "      <td>25803.00</td>\n",
       "    </tr>\n",
       "    <tr>\n",
       "      <th>...</th>\n",
       "      <td>...</td>\n",
       "      <td>...</td>\n",
       "      <td>...</td>\n",
       "    </tr>\n",
       "    <tr>\n",
       "      <th>1021</th>\n",
       "      <td>30.06.2021</td>\n",
       "      <td>Строительство</td>\n",
       "      <td>41406.00</td>\n",
       "    </tr>\n",
       "    <tr>\n",
       "      <th>1022</th>\n",
       "      <td>30.06.2021</td>\n",
       "      <td>Торговля</td>\n",
       "      <td>32013.00</td>\n",
       "    </tr>\n",
       "    <tr>\n",
       "      <th>1023</th>\n",
       "      <td>30.06.2021</td>\n",
       "      <td>Транспортировка и хранение</td>\n",
       "      <td>40632.00</td>\n",
       "    </tr>\n",
       "    <tr>\n",
       "      <th>1024</th>\n",
       "      <td>30.06.2021</td>\n",
       "      <td>Услуги ЖКХ</td>\n",
       "      <td>38984.00</td>\n",
       "    </tr>\n",
       "    <tr>\n",
       "      <th>1025</th>\n",
       "      <td>30.06.2021</td>\n",
       "      <td>Финансы и страхование</td>\n",
       "      <td>47344.00</td>\n",
       "    </tr>\n",
       "  </tbody>\n",
       "</table>\n",
       "<p>1026 rows × 3 columns</p>\n",
       "</div>"
      ],
      "text/plain": [
       "            Дата                     Отрасль  Значение\n",
       "0     31.01.2017                 Все отрасли  24012.00\n",
       "1     28.02.2017                 Все отрасли  23142.00\n",
       "2     31.03.2017                 Все отрасли  24308.00\n",
       "3     30.04.2017                 Все отрасли  24035.00\n",
       "4     31.05.2017                 Все отрасли  25803.00\n",
       "...          ...                         ...       ...\n",
       "1021  30.06.2021               Строительство  41406.00\n",
       "1022  30.06.2021                    Торговля  32013.00\n",
       "1023  30.06.2021  Транспортировка и хранение  40632.00\n",
       "1024  30.06.2021                  Услуги ЖКХ  38984.00\n",
       "1025  30.06.2021       Финансы и страхование  47344.00\n",
       "\n",
       "[1026 rows x 3 columns]"
      ]
     },
     "execution_count": 7,
     "metadata": {},
     "output_type": "execute_result"
    }
   ],
   "source": [
    "new_data.columns=['Дата','Отрасль','Значение']\n",
    "new_data"
   ]
  },
  {
   "cell_type": "code",
   "execution_count": 8,
   "metadata": {},
   "outputs": [],
   "source": [
    "new_data['Дата'] = pd.to_datetime(new_data['Дата'])"
   ]
  },
  {
   "cell_type": "code",
   "execution_count": 9,
   "metadata": {},
   "outputs": [],
   "source": [
    "new_data['Значение'] = pd.to_numeric(new_data['Значение'])"
   ]
  },
  {
   "cell_type": "code",
   "execution_count": 10,
   "metadata": {},
   "outputs": [],
   "source": [
    "query_type=np.array(new_data['Отрасль'].unique())"
   ]
  },
  {
   "cell_type": "code",
   "execution_count": 11,
   "metadata": {},
   "outputs": [
    {
     "name": "stdout",
     "output_type": "stream",
     "text": [
      "Доступный интервал дат: от 2017-01-31 00:00:00 до 2021-06-30 00:00:00\n"
     ]
    }
   ],
   "source": [
    "print('Доступный интервал дат: от', new_data.Дата.min(), 'до', new_data.Дата.max())"
   ]
  },
  {
   "cell_type": "code",
   "execution_count": 12,
   "metadata": {},
   "outputs": [
    {
     "name": "stdout",
     "output_type": "stream",
     "text": [
      "Введите начальную дату\n",
      "2017-01-31\n"
     ]
    }
   ],
   "source": [
    "print('Введите начальную дату')\n",
    "begin_Дата = input()"
   ]
  },
  {
   "cell_type": "code",
   "execution_count": 13,
   "metadata": {},
   "outputs": [
    {
     "name": "stdout",
     "output_type": "stream",
     "text": [
      "Введите конечную дату\n",
      "2021-06-30\n"
     ]
    }
   ],
   "source": [
    "print('Введите конечную дату')\n",
    "end_Дата = input()"
   ]
  },
  {
   "cell_type": "code",
   "execution_count": 14,
   "metadata": {},
   "outputs": [
    {
     "name": "stdout",
     "output_type": "stream",
     "text": [
      "Тип данных\n",
      "0 Все отрасли\n",
      "1 Административная деятельность\n",
      "2 Водоснабжение\n",
      "3 Гос. управление\n",
      "4 Гостиницы и общепит\n",
      "5 Добыча полезных ископаемых\n",
      "6 Здравоохранение\n",
      "7 ИТ и связь\n",
      "8 Научная и проф. деятельность\n",
      "9 Обрабатывающие производства\n",
      "10 Образование\n",
      "11 Операции с недвижимостью\n",
      "12 Сельское хозяйство\n",
      "13 Спорт и досуг\n",
      "14 Строительство\n",
      "15 Торговля\n",
      "16 Транспортировка и хранение\n",
      "17 Услуги ЖКХ\n",
      "18 Финансы и страхование\n"
     ]
    }
   ],
   "source": [
    "print('Тип данных')\n",
    "for i in range(len(query_type)):\n",
    "    print(i, query_type[i])"
   ]
  },
  {
   "cell_type": "code",
   "execution_count": 15,
   "metadata": {},
   "outputs": [
    {
     "name": "stdout",
     "output_type": "stream",
     "text": [
      "Введите тип\n",
      "0\n"
     ]
    }
   ],
   "source": [
    "print('Введите тип')\n",
    "new_data_type = input()"
   ]
  },
  {
   "cell_type": "code",
   "execution_count": 16,
   "metadata": {},
   "outputs": [
    {
     "name": "stdout",
     "output_type": "stream",
     "text": [
      "Выбрали: Все отрасли\n"
     ]
    }
   ],
   "source": [
    "new_data_type = query_type[int(new_data_type)]\n",
    "print('Выбрали:', new_data_type)"
   ]
  },
  {
   "cell_type": "code",
   "execution_count": 17,
   "metadata": {},
   "outputs": [
    {
     "name": "stdout",
     "output_type": "stream",
     "text": [
      "Входные данные: 2017-01-31 2021-06-30 Все отрасли\n"
     ]
    }
   ],
   "source": [
    "print('Входные данные:', begin_Дата, end_Дата, new_data_type)"
   ]
  },
  {
   "cell_type": "code",
   "execution_count": 18,
   "metadata": {},
   "outputs": [],
   "source": [
    "query = new_data.query(f'Отрасль == \"{new_data_type}\" & Дата >= \"{begin_Дата}\" & Дата <= \"{end_Дата}\"')"
   ]
  },
  {
   "cell_type": "code",
   "execution_count": 19,
   "metadata": {
    "scrolled": true
   },
   "outputs": [
    {
     "data": {
      "text/plain": [
       "<AxesSubplot:xlabel='Дата'>"
      ]
     },
     "execution_count": 19,
     "metadata": {},
     "output_type": "execute_result"
    },
    {
     "data": {
      "image/png": "[encoded data removed]",
      "text/plain": [
       "<Figure size 432x288 with 1 Axes>"
      ]
     },
     "metadata": {
      "needs_background": "light"
     },
     "output_type": "display_data"
    }
   ],
   "source": [
    "query.plot(x='Дата', y='Значение')"
   ]
  },
  {
   "cell_type": "code",
   "execution_count": 21,
   "metadata": {},
   "outputs": [],
   "source": [
    "new_data.to_excel(\"new_data.xls\" , index = False)"
   ]
  }
 ],
 "metadata": {
  "kernelspec": {
   "display_name": "Python 3",
   "language": "python",
   "name": "python3"
  },
  "language_info": {
   "codemirror_mode": {
    "name": "ipython",
    "version": 3
   },
   "file_extension": ".py",
   "mimetype": "text/x-python",
   "name": "python",
   "nbconvert_exporter": "python",
   "pygments_lexer": "ipython3",
   "version": "3.8.5"
  }
 },
 "nbformat": 4,
 "nbformat_minor": 4
}
