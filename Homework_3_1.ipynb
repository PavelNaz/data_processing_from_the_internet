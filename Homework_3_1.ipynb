{
 "cells": [
  {
   "cell_type": "code",
   "execution_count": 1,
   "metadata": {},
   "outputs": [],
   "source": [
    "from bs4 import BeautifulSoup as bs\n",
    "import requests\n",
    "from pprint import pprint\n",
    "import pandas as pd\n",
    "import numpy as np\n",
    "import urllib.parse\n",
    "import re\n",
    "from parce_vacancy import Vacancies\n",
    "from pymongo import MongoClient\n",
    "from pymongo import errors\n",
    "import types"
   ]
  },
  {
   "cell_type": "code",
   "execution_count": 2,
   "metadata": {},
   "outputs": [],
   "source": [
    "vacancies = Vacancies()\n",
    "def to_db(self, what: list, where):\n",
    "    \"\"\"вставка и обновление полей вакансий\"\"\"\n",
    "    \n",
    "    duplicates = []\n",
    "    for element in what:\n",
    "        element['_id'] = element['link'].split('/')[-1]\n",
    "        if element['salary_min']:\n",
    "            element['salary_min'] = int(element['salary_min'])\n",
    "        if element['salary_max']:\n",
    "            element['salary_max'] = int(element['salary_max'])\n",
    "        try:\n",
    "            where.insert_one(element)\n",
    "        except errors.DuplicateKeyError:\n",
    "            where.update_one({\"_id\": element['_id']}, {'$set': element})\n",
    "            duplicates.append(element['_id'])\n",
    "    \n",
    "    if len(duplicates) > 0:\n",
    "        print('duplicates were updated')\n",
    "        \n",
    "    #возвращает дупликаты\n",
    "    \n",
    "vacancies.to_db = types.MethodType(to_db, vacancies)"
   ]
  },
  {
   "cell_type": "code",
   "execution_count": 3,
   "metadata": {},
   "outputs": [],
   "source": [
    "yourtext = 'python разработчик'\n",
    "n_pages = 4\n",
    "site = 'hh'"
   ]
  },
  {
   "cell_type": "code",
   "execution_count": 4,
   "metadata": {},
   "outputs": [
    {
     "data": {
      "text/plain": [
       "80"
      ]
     },
     "execution_count": 4,
     "metadata": {},
     "output_type": "execute_result"
    }
   ],
   "source": [
    "hh_vacancies = vacancies.find(yourtext, n_pages, site)\n",
    "len(hh_vacancies)"
   ]
  },
  {
   "cell_type": "code",
   "execution_count": 5,
   "metadata": {},
   "outputs": [
    {
     "name": "stdout",
     "output_type": "stream",
     "text": [
      "{'address': 'Москва',\n",
      " 'employer': 'Сбер. IT',\n",
      " 'link': 'https://hh.ru/vacancy/46222999',\n",
      " 'name': 'Back-end Developer (Node/Java/Python)',\n",
      " 'salary_currency': None,\n",
      " 'salary_max': None,\n",
      " 'salary_min': None,\n",
      " 'site': 'hh.ru'}\n"
     ]
    }
   ],
   "source": [
    "pprint(hh_vacancies[0])\n"
   ]
  },
  {
   "cell_type": "code",
   "execution_count": 6,
   "metadata": {},
   "outputs": [],
   "source": [
    "client = MongoClient('localhost', 27017)\n",
    "db = client['vacancies']\n",
    "hh = db.hh"
   ]
  },
  {
   "cell_type": "code",
   "execution_count": 7,
   "metadata": {},
   "outputs": [
    {
     "name": "stdout",
     "output_type": "stream",
     "text": [
      "duplicates were updated\n"
     ]
    }
   ],
   "source": [
    "vacancies.to_db(hh_vacancies, hh)"
   ]
  },
  {
   "cell_type": "code",
   "execution_count": 8,
   "metadata": {},
   "outputs": [
    {
     "name": "stdout",
     "output_type": "stream",
     "text": [
      "{'_id': '46314277',\n",
      " 'name': 'Python разработчик',\n",
      " 'salary_max': None,\n",
      " 'salary_min': 250}\n",
      "{'_id': '46420684',\n",
      " 'name': 'Junior Python Developer',\n",
      " 'salary_max': None,\n",
      " 'salary_min': 100}\n",
      "{'_id': '45793420',\n",
      " 'name': 'Разработчик Python',\n",
      " 'salary_max': None,\n",
      " 'salary_min': 180}\n",
      "{'_id': '46107111',\n",
      " 'name': 'Программист Python',\n",
      " 'salary_max': None,\n",
      " 'salary_min': 100}\n",
      "{'_id': '45778408',\n",
      " 'name': 'Backend developer (Python)',\n",
      " 'salary_max': None,\n",
      " 'salary_min': 200}\n",
      "{'_id': '43528617',\n",
      " 'name': 'Разработчик Python',\n",
      " 'salary_max': 200,\n",
      " 'salary_min': None}\n",
      "{'_id': '46345483',\n",
      " 'name': 'Ведущий Python разработчик',\n",
      " 'salary_max': None,\n",
      " 'salary_min': 300}\n",
      "{'_id': '45114743',\n",
      " 'name': 'Senior QA Automation Engineer (Python)',\n",
      " 'salary_max': None,\n",
      " 'salary_min': 300}\n",
      "{'_id': '46411757',\n",
      " 'name': 'Python разработчик',\n",
      " 'salary_max': 300,\n",
      " 'salary_min': None}\n",
      "{'_id': '46376052',\n",
      " 'name': 'Программист-разработчик',\n",
      " 'salary_max': None,\n",
      " 'salary_min': 100}\n",
      "{'_id': '45632422',\n",
      " 'name': 'Middle Backend-разработчик (Python)',\n",
      " 'salary_max': 150,\n",
      " 'salary_min': None}\n",
      "{'_id': '46327140',\n",
      " 'name': 'Senior Python developer',\n",
      " 'salary_max': None,\n",
      " 'salary_min': 200}\n",
      "{'_id': '44010228',\n",
      " 'name': 'Backend разработчик Python',\n",
      " 'salary_max': 300,\n",
      " 'salary_min': None}\n",
      "{'_id': '45207528',\n",
      " 'name': 'Программист Python',\n",
      " 'salary_max': None,\n",
      " 'salary_min': 160}\n",
      "{'_id': '42923969',\n",
      " 'name': 'Программист Python',\n",
      " 'salary_max': None,\n",
      " 'salary_min': 120}\n",
      "{'_id': '45992207',\n",
      " 'name': 'Backend-разработчик (Go, Golang)',\n",
      " 'salary_max': None,\n",
      " 'salary_min': 160}\n",
      "{'_id': '45835954',\n",
      " 'name': 'Python-разработчик',\n",
      " 'salary_max': None,\n",
      " 'salary_min': 200}\n",
      "{'_id': '45631233',\n",
      " 'name': 'Middle backend-разработчик Python',\n",
      " 'salary_max': None,\n",
      " 'salary_min': 150}\n",
      "{'_id': '46357985',\n",
      " 'name': 'Python Middle Backend разработчик',\n",
      " 'salary_max': None,\n",
      " 'salary_min': 150}\n",
      "{'_id': '42600063',\n",
      " 'name': 'Senior Python разработчик',\n",
      " 'salary_max': None,\n",
      " 'salary_min': 240}\n",
      "{'_id': '46008191',\n",
      " 'name': 'Middle/Senior Python Developer',\n",
      " 'salary_max': 220,\n",
      " 'salary_min': None}\n",
      "{'_id': '45870815',\n",
      " 'name': 'Backend разработчик Python/Django',\n",
      " 'salary_max': None,\n",
      " 'salary_min': 150}\n",
      "{'_id': '45927227',\n",
      " 'name': 'Data Engineer / ETL Developer',\n",
      " 'salary_max': 250,\n",
      " 'salary_min': None}\n",
      "{'_id': '44317825',\n",
      " 'name': 'Инженер - программист 2 категории PYTHON (MIDDLE PYTHON)',\n",
      " 'salary_max': None,\n",
      " 'salary_min': 100}\n",
      "{'_id': '46314108',\n",
      " 'name': 'Программист Python',\n",
      " 'salary_max': 350,\n",
      " 'salary_min': None}\n"
     ]
    }
   ],
   "source": [
    "#вакансии с большей указанной суммы\n",
    "number = 100\n",
    "to_show = {'name': 1, 'salary_min': 1, 'salary_max': 1}\n",
    "for element in hh.find({'$or': [{'salary_min': { '$gte' : number } }, {'salary_max': { '$gte' : number } }]}, to_show ):\n",
    "    pprint(element)"
   ]
  },
  {
   "cell_type": "code",
   "execution_count": null,
   "metadata": {},
   "outputs": [],
   "source": []
  }
 ],
 "metadata": {
  "kernelspec": {
   "display_name": "Python 3",
   "language": "python",
   "name": "python3"
  },
  "language_info": {
   "codemirror_mode": {
    "name": "ipython",
    "version": 3
   },
   "file_extension": ".py",
   "mimetype": "text/x-python",
   "name": "python",
   "nbconvert_exporter": "python",
   "pygments_lexer": "ipython3",
   "version": "3.8.5"
  }
 },
 "nbformat": 4,
 "nbformat_minor": 4
}
